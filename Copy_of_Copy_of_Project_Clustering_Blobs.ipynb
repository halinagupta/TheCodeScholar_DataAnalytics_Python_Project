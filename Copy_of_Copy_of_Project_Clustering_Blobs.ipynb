{
  "nbformat": 4,
  "nbformat_minor": 0,
  "metadata": {
    "kernelspec": {
      "display_name": "Python 3",
      "language": "python",
      "name": "python3"
    },
    "language_info": {
      "codemirror_mode": {
        "name": "ipython",
        "version": 3
      },
      "file_extension": ".py",
      "mimetype": "text/x-python",
      "name": "python",
      "nbconvert_exporter": "python",
      "pygments_lexer": "ipython3",
      "version": "3.8.3"
    },
    "colab": {
      "name": "Copy of Copy of Project Clustering Blobs.ipynb",
      "provenance": [],
      "collapsed_sections": []
    }
  },
  "cells": [
    {
      "cell_type": "markdown",
      "metadata": {
        "id": "K6uszEF-tg6Q"
      },
      "source": [
        "# Unsupervised Machine Learning - KMeans\n",
        "\n",
        "Support vector machines (SVMs) are a set of supervised learning methods used for classification, regression and outliers detection. SVMs are one of the most robust prediction methods. \n",
        "\n",
        "Sources: \n",
        "[sklearn](https://scikit-learn.org/stable/modules/generated/sklearn.cluster.KMeans.html?highlight=kmeans#sklearn.cluster.KMeans), [wikipedia](https://en.wikipedia.org/wiki/K-means_clustering)"
      ]
    },
    {
      "cell_type": "markdown",
      "metadata": {
        "id": "fUB89AR6C5Br"
      },
      "source": [
        "![kmeans.png](https://www.mathworks.com/matlabcentral/mlc-downloads/downloads/submissions/52579/versions/9/screenshot.jpg)"
      ]
    },
    {
      "cell_type": "code",
      "metadata": {
        "id": "NrZlqvsX4jeF"
      },
      "source": [
        "import pandas as pd\n",
        "import numpy as np\n",
        "import matplotlib.pyplot as plt\n",
        "from sklearn import datasets\n"
      ],
      "execution_count": null,
      "outputs": []
    },
    {
      "cell_type": "markdown",
      "metadata": {
        "id": "446v22qS4o5t"
      },
      "source": [
        ""
      ]
    },
    {
      "cell_type": "code",
      "metadata": {
        "id": "bIHRPKN14jeG"
      },
      "source": [
        "# Take make moons in built dataset\n",
        "\n",
        "data_ = datasets.make_moons()"
      ],
      "execution_count": null,
      "outputs": []
    },
    {
      "cell_type": "code",
      "metadata": {
        "id": "aMUkwdWf4jeG",
        "colab": {
          "base_uri": "https://localhost:8080/"
        },
        "outputId": "b653980b-cd35-42c3-c970-5b3f8d13cafc"
      },
      "source": [
        "# check the dataset\n",
        "\n",
        "data_"
      ],
      "execution_count": null,
      "outputs": [
        {
          "output_type": "execute_result",
          "data": {
            "text/plain": [
              "(array([[ 2.00000000e+00,  5.00000000e-01],\n",
              "        [-9.81559157e-01,  1.91158629e-01],\n",
              "        [-5.72116660e-01,  8.20172255e-01],\n",
              "        [ 9.67948422e-01, -4.99486216e-01],\n",
              "        [ 1.59599895e-01,  9.87181783e-01],\n",
              "        [ 8.01413622e-01,  5.98110530e-01],\n",
              "        [-2.22520934e-01,  9.74927912e-01],\n",
              "        [-3.20515776e-02,  9.99486216e-01],\n",
              "        [-7.18349350e-01,  6.95682551e-01],\n",
              "        [ 1.67230089e+00, -2.40277997e-01],\n",
              "        [ 7.30832427e-02,  1.24732995e-01],\n",
              "        [-9.60230259e-02,  9.95379113e-01],\n",
              "        [ 5.37461710e-01, -3.86599306e-01],\n",
              "        [ 8.40400105e-01, -4.87181783e-01],\n",
              "        [ 9.49055747e-01,  3.15108218e-01],\n",
              "        [ 2.84527587e-01,  9.58667853e-01],\n",
              "        [ 9.26916757e-01,  3.75267005e-01],\n",
              "        [-2.84527587e-01,  9.58667853e-01],\n",
              "        [ 1.96729486e+00,  2.46345416e-01],\n",
              "        [ 1.99179001e+00,  3.72122838e-01],\n",
              "        [ 3.45365054e-01,  9.38468422e-01],\n",
              "        [ 2.81650650e-01, -1.95682551e-01],\n",
              "        [ 0.00000000e+00,  5.00000000e-01],\n",
              "        [ 1.00000000e+00,  0.00000000e+00],\n",
              "        [-9.91790014e-01,  1.27877162e-01],\n",
              "        [-1.59599895e-01,  9.87181783e-01],\n",
              "        [ 1.76144596e+00, -1.48228395e-01],\n",
              "        [ 1.15959990e+00, -4.87181783e-01],\n",
              "        [ 1.57211666e+00, -3.20172255e-01],\n",
              "        [ 7.15472413e-01, -4.58667853e-01],\n",
              "        [ 4.81607432e-01, -3.55142763e-01],\n",
              "        [ 3.20515776e-02,  9.99486216e-01],\n",
              "        [ 4.62538290e-01,  8.86599306e-01],\n",
              "        [ 1.94905575e+00,  1.84891782e-01],\n",
              "        [ 5.09442530e-02,  1.84891782e-01],\n",
              "        [ 1.34536505e+00, -4.38468422e-01],\n",
              "        [-7.61445958e-01,  6.48228395e-01],\n",
              "        [-9.26916757e-01,  3.75267005e-01],\n",
              "        [ 9.00968868e-01,  4.33883739e-01],\n",
              "        [-3.45365054e-01,  9.38468422e-01],\n",
              "        [ 1.84408430e-02,  3.08841371e-01],\n",
              "        [-6.72300890e-01,  7.40277997e-01],\n",
              "        [ 6.72300890e-01,  7.40277997e-01],\n",
              "        [ 5.18392568e-01,  8.55142763e-01],\n",
              "        [ 1.98586378e-01, -9.81105305e-02],\n",
              "        [ 9.90311321e-02,  6.61162609e-02],\n",
              "        [ 1.80141362e+00, -9.81105305e-02],\n",
              "        [ 1.87131870e+00,  9.28244800e-03],\n",
              "        [ 6.23489802e-01,  7.81831482e-01],\n",
              "        [ 5.95216657e-01, -4.14412623e-01],\n",
              "        [-8.71318704e-01,  4.90717552e-01],\n",
              "        [ 3.76510198e-01, -2.81831482e-01],\n",
              "        [ 3.27051370e-02,  2.46345416e-01],\n",
              "        [ 4.27883340e-01, -3.20172255e-01],\n",
              "        [ 1.71834935e+00, -1.95682551e-01],\n",
              "        [ 8.38088105e-01,  5.45534901e-01],\n",
              "        [ 8.20998618e-03,  3.72122838e-01],\n",
              "        [ 9.60230259e-02,  9.95379113e-01],\n",
              "        [ 5.72116660e-01,  8.20172255e-01],\n",
              "        [-8.01413622e-01,  5.98110530e-01],\n",
              "        [-9.00968868e-01,  4.33883739e-01],\n",
              "        [-5.18392568e-01,  8.55142763e-01],\n",
              "        [ 6.54634946e-01, -4.38468422e-01],\n",
              "        [ 1.90096887e+00,  6.61162609e-02],\n",
              "        [ 1.62348980e+00, -2.81831482e-01],\n",
              "        [-1.00000000e+00,  1.22464680e-16],\n",
              "        [ 1.09602303e+00, -4.95379113e-01],\n",
              "        [ 2.22520934e-01,  9.74927912e-01],\n",
              "        [-9.67294863e-01,  2.53654584e-01],\n",
              "        [ 2.05460725e-03,  4.35929780e-01],\n",
              "        [ 9.67294863e-01,  2.53654584e-01],\n",
              "        [ 1.03205158e+00, -4.99486216e-01],\n",
              "        [ 9.97945393e-01,  6.40702200e-02],\n",
              "        [ 3.27699110e-01, -2.40277997e-01],\n",
              "        [ 1.92691676e+00,  1.24732995e-01],\n",
              "        [-6.23489802e-01,  7.81831482e-01],\n",
              "        [ 1.46253829e+00, -3.86599306e-01],\n",
              "        [ 7.77479066e-01, -4.74927912e-01],\n",
              "        [ 2.38554042e-01, -1.48228395e-01],\n",
              "        [ 1.98155916e+00,  3.08841371e-01],\n",
              "        [ 9.91790014e-01,  1.27877162e-01],\n",
              "        [ 8.71318704e-01,  4.90717552e-01],\n",
              "        [ 1.40478334e+00, -4.14412623e-01],\n",
              "        [ 4.04783343e-01,  9.14412623e-01],\n",
              "        [-8.38088105e-01,  5.45534901e-01],\n",
              "        [ 1.28681296e-01,  9.28244800e-03],\n",
              "        [ 9.81559157e-01,  1.91158629e-01],\n",
              "        [ 7.61445958e-01,  6.48228395e-01],\n",
              "        [-9.49055747e-01,  3.15108218e-01],\n",
              "        [ 1.83808810e+00, -4.55349012e-02],\n",
              "        [ 1.99794539e+00,  4.35929780e-01],\n",
              "        [ 9.03976974e-01, -4.95379113e-01],\n",
              "        [ 1.51839257e+00, -3.55142763e-01],\n",
              "        [ 7.18349350e-01,  6.95682551e-01],\n",
              "        [-4.62538290e-01,  8.86599306e-01],\n",
              "        [-9.97945393e-01,  6.40702200e-02],\n",
              "        [ 1.22252093e+00, -4.74927912e-01],\n",
              "        [-4.04783343e-01,  9.14412623e-01],\n",
              "        [ 1.61911895e-01, -4.55349012e-02],\n",
              "        [ 1.28452759e+00, -4.58667853e-01]]),\n",
              " array([1, 0, 0, 1, 0, 0, 0, 0, 0, 1, 1, 0, 1, 1, 0, 0, 0, 0, 1, 1, 0, 1,\n",
              "        1, 0, 0, 0, 1, 1, 1, 1, 1, 0, 0, 1, 1, 1, 0, 0, 0, 0, 1, 0, 0, 0,\n",
              "        1, 1, 1, 1, 0, 1, 0, 1, 1, 1, 1, 0, 1, 0, 0, 0, 0, 0, 1, 1, 1, 0,\n",
              "        1, 0, 0, 1, 0, 1, 0, 1, 1, 0, 1, 1, 1, 1, 0, 0, 1, 0, 0, 1, 0, 0,\n",
              "        0, 1, 1, 1, 1, 0, 0, 0, 1, 0, 1, 1]))"
            ]
          },
          "metadata": {
            "tags": []
          },
          "execution_count": 38
        }
      ]
    },
    {
      "cell_type": "code",
      "metadata": {
        "colab": {
          "base_uri": "https://localhost:8080/"
        },
        "id": "6uiEjmBL49zL",
        "outputId": "86c3c94d-12c5-4675-c8cb-96e2ceec4d79"
      },
      "source": [
        "data_"
      ],
      "execution_count": null,
      "outputs": [
        {
          "output_type": "execute_result",
          "data": {
            "text/plain": [
              "(array([[ 2.00000000e+00,  5.00000000e-01],\n",
              "        [-9.81559157e-01,  1.91158629e-01],\n",
              "        [-5.72116660e-01,  8.20172255e-01],\n",
              "        [ 9.67948422e-01, -4.99486216e-01],\n",
              "        [ 1.59599895e-01,  9.87181783e-01],\n",
              "        [ 8.01413622e-01,  5.98110530e-01],\n",
              "        [-2.22520934e-01,  9.74927912e-01],\n",
              "        [-3.20515776e-02,  9.99486216e-01],\n",
              "        [-7.18349350e-01,  6.95682551e-01],\n",
              "        [ 1.67230089e+00, -2.40277997e-01],\n",
              "        [ 7.30832427e-02,  1.24732995e-01],\n",
              "        [-9.60230259e-02,  9.95379113e-01],\n",
              "        [ 5.37461710e-01, -3.86599306e-01],\n",
              "        [ 8.40400105e-01, -4.87181783e-01],\n",
              "        [ 9.49055747e-01,  3.15108218e-01],\n",
              "        [ 2.84527587e-01,  9.58667853e-01],\n",
              "        [ 9.26916757e-01,  3.75267005e-01],\n",
              "        [-2.84527587e-01,  9.58667853e-01],\n",
              "        [ 1.96729486e+00,  2.46345416e-01],\n",
              "        [ 1.99179001e+00,  3.72122838e-01],\n",
              "        [ 3.45365054e-01,  9.38468422e-01],\n",
              "        [ 2.81650650e-01, -1.95682551e-01],\n",
              "        [ 0.00000000e+00,  5.00000000e-01],\n",
              "        [ 1.00000000e+00,  0.00000000e+00],\n",
              "        [-9.91790014e-01,  1.27877162e-01],\n",
              "        [-1.59599895e-01,  9.87181783e-01],\n",
              "        [ 1.76144596e+00, -1.48228395e-01],\n",
              "        [ 1.15959990e+00, -4.87181783e-01],\n",
              "        [ 1.57211666e+00, -3.20172255e-01],\n",
              "        [ 7.15472413e-01, -4.58667853e-01],\n",
              "        [ 4.81607432e-01, -3.55142763e-01],\n",
              "        [ 3.20515776e-02,  9.99486216e-01],\n",
              "        [ 4.62538290e-01,  8.86599306e-01],\n",
              "        [ 1.94905575e+00,  1.84891782e-01],\n",
              "        [ 5.09442530e-02,  1.84891782e-01],\n",
              "        [ 1.34536505e+00, -4.38468422e-01],\n",
              "        [-7.61445958e-01,  6.48228395e-01],\n",
              "        [-9.26916757e-01,  3.75267005e-01],\n",
              "        [ 9.00968868e-01,  4.33883739e-01],\n",
              "        [-3.45365054e-01,  9.38468422e-01],\n",
              "        [ 1.84408430e-02,  3.08841371e-01],\n",
              "        [-6.72300890e-01,  7.40277997e-01],\n",
              "        [ 6.72300890e-01,  7.40277997e-01],\n",
              "        [ 5.18392568e-01,  8.55142763e-01],\n",
              "        [ 1.98586378e-01, -9.81105305e-02],\n",
              "        [ 9.90311321e-02,  6.61162609e-02],\n",
              "        [ 1.80141362e+00, -9.81105305e-02],\n",
              "        [ 1.87131870e+00,  9.28244800e-03],\n",
              "        [ 6.23489802e-01,  7.81831482e-01],\n",
              "        [ 5.95216657e-01, -4.14412623e-01],\n",
              "        [-8.71318704e-01,  4.90717552e-01],\n",
              "        [ 3.76510198e-01, -2.81831482e-01],\n",
              "        [ 3.27051370e-02,  2.46345416e-01],\n",
              "        [ 4.27883340e-01, -3.20172255e-01],\n",
              "        [ 1.71834935e+00, -1.95682551e-01],\n",
              "        [ 8.38088105e-01,  5.45534901e-01],\n",
              "        [ 8.20998618e-03,  3.72122838e-01],\n",
              "        [ 9.60230259e-02,  9.95379113e-01],\n",
              "        [ 5.72116660e-01,  8.20172255e-01],\n",
              "        [-8.01413622e-01,  5.98110530e-01],\n",
              "        [-9.00968868e-01,  4.33883739e-01],\n",
              "        [-5.18392568e-01,  8.55142763e-01],\n",
              "        [ 6.54634946e-01, -4.38468422e-01],\n",
              "        [ 1.90096887e+00,  6.61162609e-02],\n",
              "        [ 1.62348980e+00, -2.81831482e-01],\n",
              "        [-1.00000000e+00,  1.22464680e-16],\n",
              "        [ 1.09602303e+00, -4.95379113e-01],\n",
              "        [ 2.22520934e-01,  9.74927912e-01],\n",
              "        [-9.67294863e-01,  2.53654584e-01],\n",
              "        [ 2.05460725e-03,  4.35929780e-01],\n",
              "        [ 9.67294863e-01,  2.53654584e-01],\n",
              "        [ 1.03205158e+00, -4.99486216e-01],\n",
              "        [ 9.97945393e-01,  6.40702200e-02],\n",
              "        [ 3.27699110e-01, -2.40277997e-01],\n",
              "        [ 1.92691676e+00,  1.24732995e-01],\n",
              "        [-6.23489802e-01,  7.81831482e-01],\n",
              "        [ 1.46253829e+00, -3.86599306e-01],\n",
              "        [ 7.77479066e-01, -4.74927912e-01],\n",
              "        [ 2.38554042e-01, -1.48228395e-01],\n",
              "        [ 1.98155916e+00,  3.08841371e-01],\n",
              "        [ 9.91790014e-01,  1.27877162e-01],\n",
              "        [ 8.71318704e-01,  4.90717552e-01],\n",
              "        [ 1.40478334e+00, -4.14412623e-01],\n",
              "        [ 4.04783343e-01,  9.14412623e-01],\n",
              "        [-8.38088105e-01,  5.45534901e-01],\n",
              "        [ 1.28681296e-01,  9.28244800e-03],\n",
              "        [ 9.81559157e-01,  1.91158629e-01],\n",
              "        [ 7.61445958e-01,  6.48228395e-01],\n",
              "        [-9.49055747e-01,  3.15108218e-01],\n",
              "        [ 1.83808810e+00, -4.55349012e-02],\n",
              "        [ 1.99794539e+00,  4.35929780e-01],\n",
              "        [ 9.03976974e-01, -4.95379113e-01],\n",
              "        [ 1.51839257e+00, -3.55142763e-01],\n",
              "        [ 7.18349350e-01,  6.95682551e-01],\n",
              "        [-4.62538290e-01,  8.86599306e-01],\n",
              "        [-9.97945393e-01,  6.40702200e-02],\n",
              "        [ 1.22252093e+00, -4.74927912e-01],\n",
              "        [-4.04783343e-01,  9.14412623e-01],\n",
              "        [ 1.61911895e-01, -4.55349012e-02],\n",
              "        [ 1.28452759e+00, -4.58667853e-01]]),\n",
              " array([1, 0, 0, 1, 0, 0, 0, 0, 0, 1, 1, 0, 1, 1, 0, 0, 0, 0, 1, 1, 0, 1,\n",
              "        1, 0, 0, 0, 1, 1, 1, 1, 1, 0, 0, 1, 1, 1, 0, 0, 0, 0, 1, 0, 0, 0,\n",
              "        1, 1, 1, 1, 0, 1, 0, 1, 1, 1, 1, 0, 1, 0, 0, 0, 0, 0, 1, 1, 1, 0,\n",
              "        1, 0, 0, 1, 0, 1, 0, 1, 1, 0, 1, 1, 1, 1, 0, 0, 1, 0, 0, 1, 0, 0,\n",
              "        0, 1, 1, 1, 1, 0, 0, 0, 1, 0, 1, 1]))"
            ]
          },
          "metadata": {
            "tags": []
          },
          "execution_count": 39
        }
      ]
    },
    {
      "cell_type": "code",
      "metadata": {
        "id": "__XXaCZY4jeG"
      },
      "source": [
        "# create input dataframe\n",
        "\n",
        "inputData = pd.DataFrame(data_[0])"
      ],
      "execution_count": null,
      "outputs": []
    },
    {
      "cell_type": "code",
      "metadata": {
        "colab": {
          "base_uri": "https://localhost:8080/",
          "height": 204
        },
        "id": "3boOtlg251c0",
        "outputId": "81f0afc1-7569-437a-b29b-ecb64ffcb43a"
      },
      "source": [
        "inputData.head()"
      ],
      "execution_count": null,
      "outputs": [
        {
          "output_type": "execute_result",
          "data": {
            "text/html": [
              "<div>\n",
              "<style scoped>\n",
              "    .dataframe tbody tr th:only-of-type {\n",
              "        vertical-align: middle;\n",
              "    }\n",
              "\n",
              "    .dataframe tbody tr th {\n",
              "        vertical-align: top;\n",
              "    }\n",
              "\n",
              "    .dataframe thead th {\n",
              "        text-align: right;\n",
              "    }\n",
              "</style>\n",
              "<table border=\"1\" class=\"dataframe\">\n",
              "  <thead>\n",
              "    <tr style=\"text-align: right;\">\n",
              "      <th></th>\n",
              "      <th>0</th>\n",
              "      <th>1</th>\n",
              "    </tr>\n",
              "  </thead>\n",
              "  <tbody>\n",
              "    <tr>\n",
              "      <th>0</th>\n",
              "      <td>2.000000</td>\n",
              "      <td>0.500000</td>\n",
              "    </tr>\n",
              "    <tr>\n",
              "      <th>1</th>\n",
              "      <td>-0.981559</td>\n",
              "      <td>0.191159</td>\n",
              "    </tr>\n",
              "    <tr>\n",
              "      <th>2</th>\n",
              "      <td>-0.572117</td>\n",
              "      <td>0.820172</td>\n",
              "    </tr>\n",
              "    <tr>\n",
              "      <th>3</th>\n",
              "      <td>0.967948</td>\n",
              "      <td>-0.499486</td>\n",
              "    </tr>\n",
              "    <tr>\n",
              "      <th>4</th>\n",
              "      <td>0.159600</td>\n",
              "      <td>0.987182</td>\n",
              "    </tr>\n",
              "  </tbody>\n",
              "</table>\n",
              "</div>"
            ],
            "text/plain": [
              "          0         1\n",
              "0  2.000000  0.500000\n",
              "1 -0.981559  0.191159\n",
              "2 -0.572117  0.820172\n",
              "3  0.967948 -0.499486\n",
              "4  0.159600  0.987182"
            ]
          },
          "metadata": {
            "tags": []
          },
          "execution_count": 41
        }
      ]
    },
    {
      "cell_type": "code",
      "metadata": {
        "id": "rMniXkD-4jeI",
        "colab": {
          "base_uri": "https://localhost:8080/",
          "height": 204
        },
        "outputId": "46d0b673-e6a6-4613-a318-829703a3bc5d"
      },
      "source": [
        "inputData.head()"
      ],
      "execution_count": null,
      "outputs": [
        {
          "output_type": "execute_result",
          "data": {
            "text/html": [
              "<div>\n",
              "<style scoped>\n",
              "    .dataframe tbody tr th:only-of-type {\n",
              "        vertical-align: middle;\n",
              "    }\n",
              "\n",
              "    .dataframe tbody tr th {\n",
              "        vertical-align: top;\n",
              "    }\n",
              "\n",
              "    .dataframe thead th {\n",
              "        text-align: right;\n",
              "    }\n",
              "</style>\n",
              "<table border=\"1\" class=\"dataframe\">\n",
              "  <thead>\n",
              "    <tr style=\"text-align: right;\">\n",
              "      <th></th>\n",
              "      <th>0</th>\n",
              "      <th>1</th>\n",
              "    </tr>\n",
              "  </thead>\n",
              "  <tbody>\n",
              "    <tr>\n",
              "      <th>0</th>\n",
              "      <td>2.000000</td>\n",
              "      <td>0.500000</td>\n",
              "    </tr>\n",
              "    <tr>\n",
              "      <th>1</th>\n",
              "      <td>-0.981559</td>\n",
              "      <td>0.191159</td>\n",
              "    </tr>\n",
              "    <tr>\n",
              "      <th>2</th>\n",
              "      <td>-0.572117</td>\n",
              "      <td>0.820172</td>\n",
              "    </tr>\n",
              "    <tr>\n",
              "      <th>3</th>\n",
              "      <td>0.967948</td>\n",
              "      <td>-0.499486</td>\n",
              "    </tr>\n",
              "    <tr>\n",
              "      <th>4</th>\n",
              "      <td>0.159600</td>\n",
              "      <td>0.987182</td>\n",
              "    </tr>\n",
              "  </tbody>\n",
              "</table>\n",
              "</div>"
            ],
            "text/plain": [
              "          0         1\n",
              "0  2.000000  0.500000\n",
              "1 -0.981559  0.191159\n",
              "2 -0.572117  0.820172\n",
              "3  0.967948 -0.499486\n",
              "4  0.159600  0.987182"
            ]
          },
          "metadata": {
            "tags": []
          },
          "execution_count": 42
        }
      ]
    },
    {
      "cell_type": "code",
      "metadata": {
        "id": "c5L5s4H-4jeI",
        "colab": {
          "base_uri": "https://localhost:8080/",
          "height": 204
        },
        "outputId": "3a38a08f-2bc3-4e03-ab5d-7ea4a3885cb1"
      },
      "source": [
        "# create output dataframe\n",
        "\n",
        "outputData = pd.DataFrame(data_[1])\n",
        "outputData.head()"
      ],
      "execution_count": null,
      "outputs": [
        {
          "output_type": "execute_result",
          "data": {
            "text/html": [
              "<div>\n",
              "<style scoped>\n",
              "    .dataframe tbody tr th:only-of-type {\n",
              "        vertical-align: middle;\n",
              "    }\n",
              "\n",
              "    .dataframe tbody tr th {\n",
              "        vertical-align: top;\n",
              "    }\n",
              "\n",
              "    .dataframe thead th {\n",
              "        text-align: right;\n",
              "    }\n",
              "</style>\n",
              "<table border=\"1\" class=\"dataframe\">\n",
              "  <thead>\n",
              "    <tr style=\"text-align: right;\">\n",
              "      <th></th>\n",
              "      <th>0</th>\n",
              "    </tr>\n",
              "  </thead>\n",
              "  <tbody>\n",
              "    <tr>\n",
              "      <th>0</th>\n",
              "      <td>1</td>\n",
              "    </tr>\n",
              "    <tr>\n",
              "      <th>1</th>\n",
              "      <td>0</td>\n",
              "    </tr>\n",
              "    <tr>\n",
              "      <th>2</th>\n",
              "      <td>0</td>\n",
              "    </tr>\n",
              "    <tr>\n",
              "      <th>3</th>\n",
              "      <td>1</td>\n",
              "    </tr>\n",
              "    <tr>\n",
              "      <th>4</th>\n",
              "      <td>0</td>\n",
              "    </tr>\n",
              "  </tbody>\n",
              "</table>\n",
              "</div>"
            ],
            "text/plain": [
              "   0\n",
              "0  1\n",
              "1  0\n",
              "2  0\n",
              "3  1\n",
              "4  0"
            ]
          },
          "metadata": {
            "tags": []
          },
          "execution_count": 43
        }
      ]
    },
    {
      "cell_type": "code",
      "metadata": {
        "id": "WWCp4afS4jeJ",
        "colab": {
          "base_uri": "https://localhost:8080/",
          "height": 296
        },
        "outputId": "9f3c89bb-d8d3-42fa-9d7a-4565880641e5"
      },
      "source": [
        "# create a scatter plot for inputData set\n",
        "inputData.plot.scatter(x=0,y=1)\n"
      ],
      "execution_count": null,
      "outputs": [
        {
          "output_type": "execute_result",
          "data": {
            "text/plain": [
              "<matplotlib.axes._subplots.AxesSubplot at 0x7faeeeb6eb50>"
            ]
          },
          "metadata": {
            "tags": []
          },
          "execution_count": 44
        },
        {
          "output_type": "display_data",
          "data": {
            "image/png": "[encoded data removed]",
            "text/plain": [
              "<Figure size 432x288 with 1 Axes>"
            ]
          },
          "metadata": {
            "tags": [],
            "needs_background": "light"
          }
        }
      ]
    },
    {
      "cell_type": "code",
      "metadata": {
        "id": "iLakOTAa4jeJ",
        "colab": {
          "base_uri": "https://localhost:8080/",
          "height": 296
        },
        "outputId": "ec9a96ec-abba-4eb5-e64e-3e2e549b1834"
      },
      "source": [
        "# create a scatter plot for inputData set with outputData color\n",
        "inputData.plot.scatter(x=0,y=1,c=outputData)\n"
      ],
      "execution_count": null,
      "outputs": [
        {
          "output_type": "execute_result",
          "data": {
            "text/plain": [
              "<matplotlib.axes._subplots.AxesSubplot at 0x7faeeea88550>"
            ]
          },
          "metadata": {
            "tags": []
          },
          "execution_count": 47
        },
        {
          "output_type": "display_data",
          "data": {
            "image/png": "[encoded data removed]",
            "text/plain": [
              "<Figure size 432x288 with 1 Axes>"
            ]
          },
          "metadata": {
            "tags": [],
            "needs_background": "light"
          }
        }
      ]
    },
    {
      "cell_type": "code",
      "metadata": {
        "id": "g_v2e1cx4jeK"
      },
      "source": [
        ""
      ],
      "execution_count": null,
      "outputs": []
    },
    {
      "cell_type": "code",
      "metadata": {
        "id": "jW6byThK4jeK"
      },
      "source": [
        "# Call the sklearn Kmeans and make a model with 200 samples\n",
        "from sklearn.cluster import KMeans\n",
        "\n",
        "#model_fit\n",
        "kmeans = KMeans(n_clusters=5).fit(inputData)"
      ],
      "execution_count": null,
      "outputs": []
    },
    {
      "cell_type": "code",
      "metadata": {
        "id": "03R-eo134jeL",
        "colab": {
          "base_uri": "https://localhost:8080/"
        },
        "outputId": "6d5acb3f-dae7-403a-cc00-aa47f062e077"
      },
      "source": [
        "# check for labels\n",
        "\n",
        "kmeans.labels_"
      ],
      "execution_count": null,
      "outputs": [
        {
          "output_type": "execute_result",
          "data": {
            "text/plain": [
              "array([3, 1, 1, 0, 4, 2, 4, 4, 1, 3, 0, 4, 0, 0, 2, 4, 2, 4, 3, 3, 4, 0,\n",
              "       4, 2, 1, 4, 3, 0, 3, 0, 0, 4, 4, 3, 4, 3, 1, 1, 2, 4, 4, 1, 2, 4,\n",
              "       0, 0, 3, 3, 2, 0, 1, 0, 4, 0, 3, 2, 4, 4, 2, 1, 1, 1, 0, 3, 3, 1,\n",
              "       0, 4, 1, 4, 2, 0, 2, 0, 3, 1, 3, 0, 0, 3, 2, 2, 3, 4, 1, 0, 2, 2,\n",
              "       1, 3, 3, 0, 3, 2, 4, 1, 3, 4, 0, 3], dtype=int32)"
            ]
          },
          "metadata": {
            "tags": []
          },
          "execution_count": 51
        }
      ]
    },
    {
      "cell_type": "code",
      "metadata": {
        "id": "7i19pBHI4jeL"
      },
      "source": [
        ""
      ],
      "execution_count": null,
      "outputs": []
    },
    {
      "cell_type": "code",
      "metadata": {
        "id": "NXD41y3v4jeM",
        "outputId": "8c522fd4-4bbf-47da-f9ec-91d90bc4f3f2"
      },
      "source": [
        "# call metrics and check silhoutte score\n",
        "\n",
        "from sklearn.metrics import  silhouette_score\n",
        "score = silhouette_score(inputData, kmeans.labels_, metric='euclidean')\n",
        "score"
      ],
      "execution_count": null,
      "outputs": [
        {
          "output_type": "execute_result",
          "data": {
            "text/plain": [
              "0.4734072067815621"
            ]
          },
          "metadata": {
            "tags": []
          },
          "execution_count": 14
        }
      ]
    },
    {
      "cell_type": "code",
      "metadata": {
        "id": "iex1vPDX4jeM",
        "outputId": "2e463ad6-525b-4f3e-fd86-f39b8c3b307f"
      },
      "source": [
        "# create a scatter plot for inputData set with model labels color\n",
        "\n",
        "inputData.plot.scatter(x=0,y=1,c=kmeans.labels_)"
      ],
      "execution_count": null,
      "outputs": [
        {
          "output_type": "execute_result",
          "data": {
            "text/plain": [
              "<matplotlib.collections.PathCollection at 0x1a38ff9f7c0>"
            ]
          },
          "metadata": {
            "tags": []
          },
          "execution_count": 15
        },
        {
          "output_type": "display_data",
          "data": {
            "image/png": "[encoded data removed]",
            "text/plain": [
              "<Figure size 432x288 with 1 Axes>"
            ]
          },
          "metadata": {
            "tags": [],
            "needs_background": "light"
          }
        }
      ]
    },
    {
      "cell_type": "markdown",
      "metadata": {
        "id": "NivXjJCU4jeN"
      },
      "source": [
        "#### finding right number of cluster"
      ]
    },
    {
      "cell_type": "code",
      "metadata": {
        "id": "LRFNC-cE4jeN"
      },
      "source": [
        "cluster_range = range(1, 20)\n",
        "error_list = []\n",
        "\n",
        "for i in cluster_range:\n",
        "    model = KMeans(n_clusters=i)\n",
        "    model.fit(inputData)\n",
        "    res = model.inertia_\n",
        "    error_list.append(res)"
      ],
      "execution_count": null,
      "outputs": []
    },
    {
      "cell_type": "code",
      "metadata": {
        "id": "-N4i-ucl4jeN",
        "outputId": "085efcfd-8fca-4312-80ef-3a2c6b185fe1"
      },
      "source": [
        "import matplotlib.pyplot as plt\n",
        "\n",
        "plt.plot(cluster_range, error_list, marker = \"o\", color = \"g\", markersize = 10)\n",
        "plt.xlabel(\"Cluster Range\")\n",
        "plt.ylabel(\"IntraCluster Sum\")\n",
        "plt.title(\"KMeans\")\n",
        "plt.show()"
      ],
      "execution_count": null,
      "outputs": [
        {
          "output_type": "display_data",
          "data": {
            "image/png": "[encoded data removed]",
            "text/plain": [
              "<Figure size 432x288 with 1 Axes>"
            ]
          },
          "metadata": {
            "tags": [],
            "needs_background": "light"
          }
        }
      ]
    },
    {
      "cell_type": "code",
      "metadata": {
        "id": "0bPsXHE24jeO"
      },
      "source": [
        ""
      ],
      "execution_count": null,
      "outputs": []
    },
    {
      "cell_type": "code",
      "metadata": {
        "id": "Ww3UoeFP4jeO"
      },
      "source": [
        ""
      ],
      "execution_count": null,
      "outputs": []
    }
  ]
}